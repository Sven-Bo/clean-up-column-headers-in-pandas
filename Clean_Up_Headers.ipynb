{
 "cells": [
  {
   "cell_type": "markdown",
   "id": "2414e439-c965-4a16-95a4-ef78c79f2239",
   "metadata": {},
   "source": [
    "# Clean Headers in Pandas"
   ]
  },
  {
   "cell_type": "markdown",
   "id": "675a92d0-c632-40e9-a4ae-2c6889513f94",
   "metadata": {},
   "source": [
    "## Clean headers with your own function"
   ]
  },
  {
   "cell_type": "code",
   "execution_count": 1,
   "id": "08841a9b-a799-498c-9088-c8fe41018081",
   "metadata": {},
   "outputs": [
    {
     "name": "stderr",
     "output_type": "stream",
     "text": [
      "C:\\Users\\Bananatree\\miniconda3\\lib\\site-packages\\numpy\\_distributor_init.py:30: UserWarning: loaded more than 1 DLL from .libs:\n",
      "C:\\Users\\Bananatree\\miniconda3\\lib\\site-packages\\numpy\\.libs\\libopenblas.FB5AE2TYXYH2IJRDKGDGQ3XBKLKTF43H.gfortran-win_amd64.dll\n",
      "C:\\Users\\Bananatree\\miniconda3\\lib\\site-packages\\numpy\\.libs\\libopenblas.WCDJNK7YVMPZQ2ME2ZZHJJRJ3JIKNDB7.gfortran-win_amd64.dll\n",
      "  warnings.warn(\"loaded more than 1 DLL from .libs:\"\n"
     ]
    },
    {
     "data": {
      "text/html": [
       "<div>\n",
       "<style scoped>\n",
       "    .dataframe tbody tr th:only-of-type {\n",
       "        vertical-align: middle;\n",
       "    }\n",
       "\n",
       "    .dataframe tbody tr th {\n",
       "        vertical-align: top;\n",
       "    }\n",
       "\n",
       "    .dataframe thead th {\n",
       "        text-align: right;\n",
       "    }\n",
       "</style>\n",
       "<table border=\"1\" class=\"dataframe\">\n",
       "  <thead>\n",
       "    <tr style=\"text-align: right;\">\n",
       "      <th></th>\n",
       "      <th>ISBN</th>\n",
       "      <th>book Title</th>\n",
       "      <th>Author</th>\n",
       "      <th>Publication (year)</th>\n",
       "      <th>éditeur</th>\n",
       "      <th>Number_Of_Pages</th>\n",
       "      <th>RATING</th>\n",
       "    </tr>\n",
       "  </thead>\n",
       "  <tbody>\n",
       "    <tr>\n",
       "      <th>0</th>\n",
       "      <td>9781455582341</td>\n",
       "      <td>How Google Works</td>\n",
       "      <td>Eric Schmidt, Jonathan Rosenberg</td>\n",
       "      <td>2014</td>\n",
       "      <td>Grand Central Publishing</td>\n",
       "      <td>305</td>\n",
       "      <td>4.06</td>\n",
       "    </tr>\n",
       "  </tbody>\n",
       "</table>\n",
       "</div>"
      ],
      "text/plain": [
       "            ISBN        book Title                           Author   \\\n",
       "0  9781455582341  How Google Works  Eric Schmidt, Jonathan Rosenberg   \n",
       "\n",
       "   Publication (year)                   éditeur  Number_Of_Pages  RATING  \n",
       "0                2014  Grand Central Publishing              305    4.06  "
      ]
     },
     "execution_count": 1,
     "metadata": {},
     "output_type": "execute_result"
    }
   ],
   "source": [
    "import numpy as np\n",
    "import pandas as pd\n",
    "\n",
    "df = pd.DataFrame(\n",
    "    {\n",
    "        \"ISBN\": [9781455582341],\n",
    "        \"book Title\": [\"How Google Works\"],\n",
    "        \"Author \": [\"Eric Schmidt, Jonathan Rosenberg\"],\n",
    "        \"Publication (year)\": [2014],\n",
    "        \"éditeur\": [\"Grand Central Publishing\"],\n",
    "        \"Number_Of_Pages\": [305],\n",
    "        \"RATING\": [4.06],\n",
    "    }\n",
    ")\n",
    "df"
   ]
  },
  {
   "cell_type": "code",
   "execution_count": 2,
   "id": "9a57b51d-0b2b-4e55-8204-5d7727babf0b",
   "metadata": {},
   "outputs": [],
   "source": [
    "def clean_headers(val):\n",
    "    if isinstance(val, str):\n",
    "        # remove special chars (but skip emtpy spaces and all)\n",
    "        val = \"\".join(char for char in val if char.isalnum() or char in (\" \", \"_\"))\n",
    "        # convert to snake case\n",
    "        val = val.strip().lower().replace(\" \", \"_\")\n",
    "        return val\n",
    "    else:\n",
    "        return val"
   ]
  },
  {
   "cell_type": "code",
   "execution_count": 3,
   "id": "d7162af1-a28a-481b-99f6-4e5a777d927f",
   "metadata": {},
   "outputs": [
    {
     "data": {
      "text/html": [
       "<div>\n",
       "<style scoped>\n",
       "    .dataframe tbody tr th:only-of-type {\n",
       "        vertical-align: middle;\n",
       "    }\n",
       "\n",
       "    .dataframe tbody tr th {\n",
       "        vertical-align: top;\n",
       "    }\n",
       "\n",
       "    .dataframe thead th {\n",
       "        text-align: right;\n",
       "    }\n",
       "</style>\n",
       "<table border=\"1\" class=\"dataframe\">\n",
       "  <thead>\n",
       "    <tr style=\"text-align: right;\">\n",
       "      <th></th>\n",
       "      <th>isbn</th>\n",
       "      <th>book_title</th>\n",
       "      <th>author</th>\n",
       "      <th>publication_year</th>\n",
       "      <th>éditeur</th>\n",
       "      <th>number_of_pages</th>\n",
       "      <th>rating</th>\n",
       "    </tr>\n",
       "  </thead>\n",
       "  <tbody>\n",
       "    <tr>\n",
       "      <th>0</th>\n",
       "      <td>9781455582341</td>\n",
       "      <td>How Google Works</td>\n",
       "      <td>Eric Schmidt, Jonathan Rosenberg</td>\n",
       "      <td>2014</td>\n",
       "      <td>Grand Central Publishing</td>\n",
       "      <td>305</td>\n",
       "      <td>4.06</td>\n",
       "    </tr>\n",
       "  </tbody>\n",
       "</table>\n",
       "</div>"
      ],
      "text/plain": [
       "            isbn        book_title                            author  \\\n",
       "0  9781455582341  How Google Works  Eric Schmidt, Jonathan Rosenberg   \n",
       "\n",
       "   publication_year                   éditeur  number_of_pages  rating  \n",
       "0              2014  Grand Central Publishing              305    4.06  "
      ]
     },
     "execution_count": 3,
     "metadata": {},
     "output_type": "execute_result"
    }
   ],
   "source": [
    "df_clean = df.rename(columns=clean_headers)\n",
    "df_clean"
   ]
  },
  {
   "cell_type": "markdown",
   "id": "72d48620-52e7-4af9-845e-3e76e05e0bf5",
   "metadata": {},
   "source": [
    "## More Complex Case"
   ]
  },
  {
   "cell_type": "code",
   "execution_count": 4,
   "id": "a9f7c997-be90-4f48-85fd-dd0a4aad13ca",
   "metadata": {},
   "outputs": [
    {
     "data": {
      "text/html": [
       "<div>\n",
       "<style scoped>\n",
       "    .dataframe tbody tr th:only-of-type {\n",
       "        vertical-align: middle;\n",
       "    }\n",
       "\n",
       "    .dataframe tbody tr th {\n",
       "        vertical-align: top;\n",
       "    }\n",
       "\n",
       "    .dataframe thead th {\n",
       "        text-align: right;\n",
       "    }\n",
       "</style>\n",
       "<table border=\"1\" class=\"dataframe\">\n",
       "  <thead>\n",
       "    <tr style=\"text-align: right;\">\n",
       "      <th></th>\n",
       "      <th>ISBN</th>\n",
       "      <th>isbn</th>\n",
       "      <th>bookTitle</th>\n",
       "      <th>__Author</th>\n",
       "      <th>Publication (year)</th>\n",
       "      <th>éditeur</th>\n",
       "      <th>Number_Of_Pages</th>\n",
       "      <th>★ Rating</th>\n",
       "      <th>NaN</th>\n",
       "      <th>None</th>\n",
       "      <th>N/A</th>\n",
       "    </tr>\n",
       "  </thead>\n",
       "  <tbody>\n",
       "    <tr>\n",
       "      <th>0</th>\n",
       "      <td>9781455582341</td>\n",
       "      <td>1455582328</td>\n",
       "      <td>How Google Works</td>\n",
       "      <td>Eric Schmidt, Jonathan Rosenberg</td>\n",
       "      <td>2014</td>\n",
       "      <td>Grand Central Publishing</td>\n",
       "      <td>305</td>\n",
       "      <td>4.06</td>\n",
       "      <td>How Google Works</td>\n",
       "      <td>Eric Schmidt, Jonathan Rosenberg</td>\n",
       "      <td>2014</td>\n",
       "    </tr>\n",
       "  </tbody>\n",
       "</table>\n",
       "</div>"
      ],
      "text/plain": [
       "            ISBN        isbn         bookTitle  \\\n",
       "0  9781455582341  1455582328  How Google Works   \n",
       "\n",
       "                           __Author  Publication (year)  \\\n",
       "0  Eric Schmidt, Jonathan Rosenberg                2014   \n",
       "\n",
       "                    éditeur  Number_Of_Pages  ★ Rating               NaN  \\\n",
       "0  Grand Central Publishing              305      4.06  How Google Works   \n",
       "\n",
       "                               None   N/A  \n",
       "0  Eric Schmidt, Jonathan Rosenberg  2014  "
      ]
     },
     "execution_count": 4,
     "metadata": {},
     "output_type": "execute_result"
    }
   ],
   "source": [
    "df_messy = pd.DataFrame(\n",
    "    {\n",
    "        \"ISBN\": [9781455582341],\n",
    "        \"isbn\": [1455582328],\n",
    "        \"bookTitle\": [\"How Google Works\"],\n",
    "        \"__Author\": [\"Eric Schmidt, Jonathan Rosenberg\"],\n",
    "        \"Publication (year)\": [2014],\n",
    "        \"éditeur\": [\"Grand Central Publishing\"],\n",
    "        \"Number_Of_Pages\": [305],\n",
    "        \"★ Rating\": [4.06],\n",
    "        np.nan: [\"How Google Works\"],\n",
    "        None: [\"Eric Schmidt, Jonathan Rosenberg\"],\n",
    "        \"N/A\": [2014],\n",
    "    }\n",
    ")\n",
    "df_messy"
   ]
  },
  {
   "cell_type": "code",
   "execution_count": 5,
   "id": "c48c7368-47bc-47c3-9fae-27a98f43f0ab",
   "metadata": {},
   "outputs": [
    {
     "data": {
      "text/html": [
       "<div>\n",
       "<style scoped>\n",
       "    .dataframe tbody tr th:only-of-type {\n",
       "        vertical-align: middle;\n",
       "    }\n",
       "\n",
       "    .dataframe tbody tr th {\n",
       "        vertical-align: top;\n",
       "    }\n",
       "\n",
       "    .dataframe thead th {\n",
       "        text-align: right;\n",
       "    }\n",
       "</style>\n",
       "<table border=\"1\" class=\"dataframe\">\n",
       "  <thead>\n",
       "    <tr style=\"text-align: right;\">\n",
       "      <th></th>\n",
       "      <th>isbn</th>\n",
       "      <th>isbn</th>\n",
       "      <th>booktitle</th>\n",
       "      <th>__author</th>\n",
       "      <th>publication_year</th>\n",
       "      <th>éditeur</th>\n",
       "      <th>number_of_pages</th>\n",
       "      <th>rating</th>\n",
       "      <th>NaN</th>\n",
       "      <th>None</th>\n",
       "      <th>na</th>\n",
       "    </tr>\n",
       "  </thead>\n",
       "  <tbody>\n",
       "    <tr>\n",
       "      <th>0</th>\n",
       "      <td>9781455582341</td>\n",
       "      <td>1455582328</td>\n",
       "      <td>How Google Works</td>\n",
       "      <td>Eric Schmidt, Jonathan Rosenberg</td>\n",
       "      <td>2014</td>\n",
       "      <td>Grand Central Publishing</td>\n",
       "      <td>305</td>\n",
       "      <td>4.06</td>\n",
       "      <td>How Google Works</td>\n",
       "      <td>Eric Schmidt, Jonathan Rosenberg</td>\n",
       "      <td>2014</td>\n",
       "    </tr>\n",
       "  </tbody>\n",
       "</table>\n",
       "</div>"
      ],
      "text/plain": [
       "            isbn        isbn         booktitle  \\\n",
       "0  9781455582341  1455582328  How Google Works   \n",
       "\n",
       "                           __author  publication_year  \\\n",
       "0  Eric Schmidt, Jonathan Rosenberg              2014   \n",
       "\n",
       "                    éditeur  number_of_pages  rating               NaN  \\\n",
       "0  Grand Central Publishing              305    4.06  How Google Works   \n",
       "\n",
       "                               None    na  \n",
       "0  Eric Schmidt, Jonathan Rosenberg  2014  "
      ]
     },
     "execution_count": 5,
     "metadata": {},
     "output_type": "execute_result"
    }
   ],
   "source": [
    "# Using our simple function\n",
    "df_clean = df_messy.rename(columns=clean_headers)\n",
    "df_clean"
   ]
  },
  {
   "cell_type": "markdown",
   "id": "138b6073-63b8-41c9-ac83-8f95e9faf797",
   "metadata": {},
   "source": [
    "## Use `dataprep`"
   ]
  },
  {
   "cell_type": "code",
   "execution_count": 6,
   "id": "0cb33034-9e02-4c42-a026-4fcee72ce10b",
   "metadata": {},
   "outputs": [],
   "source": [
    "#!pip install -U dataprep -q"
   ]
  },
  {
   "cell_type": "code",
   "execution_count": 7,
   "id": "eccb16fb-7f56-4c40-8d4e-53286572d16d",
   "metadata": {},
   "outputs": [],
   "source": [
    "from dataprep.clean import clean_headers"
   ]
  },
  {
   "cell_type": "code",
   "execution_count": 8,
   "id": "340a1fb8-6fac-4b4a-bb79-c759e600d7e5",
   "metadata": {},
   "outputs": [
    {
     "name": "stdout",
     "output_type": "stream",
     "text": [
      "Column Headers Cleaning Report:\n",
      "\t11 values cleaned (100.0%)\n"
     ]
    },
    {
     "data": {
      "text/html": [
       "<div>\n",
       "<style scoped>\n",
       "    .dataframe tbody tr th:only-of-type {\n",
       "        vertical-align: middle;\n",
       "    }\n",
       "\n",
       "    .dataframe tbody tr th {\n",
       "        vertical-align: top;\n",
       "    }\n",
       "\n",
       "    .dataframe thead th {\n",
       "        text-align: right;\n",
       "    }\n",
       "</style>\n",
       "<table border=\"1\" class=\"dataframe\">\n",
       "  <thead>\n",
       "    <tr style=\"text-align: right;\">\n",
       "      <th></th>\n",
       "      <th>isbn</th>\n",
       "      <th>isbn_1</th>\n",
       "      <th>book_title</th>\n",
       "      <th>author</th>\n",
       "      <th>publication_year</th>\n",
       "      <th>editeur</th>\n",
       "      <th>number_of_pages</th>\n",
       "      <th>rating</th>\n",
       "      <th>header</th>\n",
       "      <th>header_1</th>\n",
       "      <th>n_a</th>\n",
       "    </tr>\n",
       "  </thead>\n",
       "  <tbody>\n",
       "    <tr>\n",
       "      <th>0</th>\n",
       "      <td>9781455582341</td>\n",
       "      <td>1455582328</td>\n",
       "      <td>How Google Works</td>\n",
       "      <td>Eric Schmidt, Jonathan Rosenberg</td>\n",
       "      <td>2014</td>\n",
       "      <td>Grand Central Publishing</td>\n",
       "      <td>305</td>\n",
       "      <td>4.06</td>\n",
       "      <td>How Google Works</td>\n",
       "      <td>Eric Schmidt, Jonathan Rosenberg</td>\n",
       "      <td>2014</td>\n",
       "    </tr>\n",
       "  </tbody>\n",
       "</table>\n",
       "</div>"
      ],
      "text/plain": [
       "            isbn      isbn_1        book_title  \\\n",
       "0  9781455582341  1455582328  How Google Works   \n",
       "\n",
       "                             author  publication_year  \\\n",
       "0  Eric Schmidt, Jonathan Rosenberg              2014   \n",
       "\n",
       "                    editeur  number_of_pages  rating            header  \\\n",
       "0  Grand Central Publishing              305    4.06  How Google Works   \n",
       "\n",
       "                           header_1   n_a  \n",
       "0  Eric Schmidt, Jonathan Rosenberg  2014  "
      ]
     },
     "execution_count": 8,
     "metadata": {},
     "output_type": "execute_result"
    }
   ],
   "source": [
    "# Default snake case\n",
    "clean_headers(df_messy).head()"
   ]
  },
  {
   "cell_type": "markdown",
   "id": "ef9610c7-448b-49d2-ac60-78d6545d9443",
   "metadata": {},
   "source": [
    "**Additional options:**\n",
    "- 'snake': 'column_name'\n",
    "- 'kebab': 'column-name'\n",
    "- 'camel': 'columnName'\n",
    "- 'pascal': 'ColumnName'\n",
    "- 'const': 'COLUMN_NAME'\n",
    "- 'sentence': 'Column name'\n",
    "- 'title': 'Column Name'\n",
    "- 'lower': 'column name'\n",
    "- 'upper': 'COLUMN NAME'\n",
    "\n",
    "👉 **DEFAULT: 'snake'**"
   ]
  },
  {
   "cell_type": "code",
   "execution_count": 9,
   "id": "50c645b3-fe51-4962-82c8-dfd1d8284197",
   "metadata": {},
   "outputs": [
    {
     "name": "stdout",
     "output_type": "stream",
     "text": [
      "Column Headers Cleaning Report:\n",
      "\t10 values cleaned (90.91%)\n"
     ]
    },
    {
     "data": {
      "text/html": [
       "<div>\n",
       "<style scoped>\n",
       "    .dataframe tbody tr th:only-of-type {\n",
       "        vertical-align: middle;\n",
       "    }\n",
       "\n",
       "    .dataframe tbody tr th {\n",
       "        vertical-align: top;\n",
       "    }\n",
       "\n",
       "    .dataframe thead th {\n",
       "        text-align: right;\n",
       "    }\n",
       "</style>\n",
       "<table border=\"1\" class=\"dataframe\">\n",
       "  <thead>\n",
       "    <tr style=\"text-align: right;\">\n",
       "      <th></th>\n",
       "      <th>isbn</th>\n",
       "      <th>isbn1</th>\n",
       "      <th>bookTitle</th>\n",
       "      <th>author</th>\n",
       "      <th>publicationYear</th>\n",
       "      <th>editeur</th>\n",
       "      <th>numberOfPages</th>\n",
       "      <th>rating</th>\n",
       "      <th>header</th>\n",
       "      <th>header1</th>\n",
       "      <th>nA</th>\n",
       "    </tr>\n",
       "  </thead>\n",
       "  <tbody>\n",
       "    <tr>\n",
       "      <th>0</th>\n",
       "      <td>9781455582341</td>\n",
       "      <td>1455582328</td>\n",
       "      <td>How Google Works</td>\n",
       "      <td>Eric Schmidt, Jonathan Rosenberg</td>\n",
       "      <td>2014</td>\n",
       "      <td>Grand Central Publishing</td>\n",
       "      <td>305</td>\n",
       "      <td>4.06</td>\n",
       "      <td>How Google Works</td>\n",
       "      <td>Eric Schmidt, Jonathan Rosenberg</td>\n",
       "      <td>2014</td>\n",
       "    </tr>\n",
       "  </tbody>\n",
       "</table>\n",
       "</div>"
      ],
      "text/plain": [
       "            isbn       isbn1         bookTitle  \\\n",
       "0  9781455582341  1455582328  How Google Works   \n",
       "\n",
       "                             author  publicationYear  \\\n",
       "0  Eric Schmidt, Jonathan Rosenberg             2014   \n",
       "\n",
       "                    editeur  numberOfPages  rating            header  \\\n",
       "0  Grand Central Publishing            305    4.06  How Google Works   \n",
       "\n",
       "                            header1    nA  \n",
       "0  Eric Schmidt, Jonathan Rosenberg  2014  "
      ]
     },
     "execution_count": 9,
     "metadata": {},
     "output_type": "execute_result"
    }
   ],
   "source": [
    "# Example for camel case\n",
    "clean_headers(df_messy, case=\"camel\").head()"
   ]
  },
  {
   "cell_type": "code",
   "execution_count": 10,
   "id": "9ca05841-548c-4f58-a72c-95111b4042cd",
   "metadata": {},
   "outputs": [
    {
     "name": "stdout",
     "output_type": "stream",
     "text": [
      "Column Headers Cleaning Report:\n",
      "\t11 values cleaned (100.0%)\n"
     ]
    },
    {
     "data": {
      "text/html": [
       "<div>\n",
       "<style scoped>\n",
       "    .dataframe tbody tr th:only-of-type {\n",
       "        vertical-align: middle;\n",
       "    }\n",
       "\n",
       "    .dataframe tbody tr th {\n",
       "        vertical-align: top;\n",
       "    }\n",
       "\n",
       "    .dataframe thead th {\n",
       "        text-align: right;\n",
       "    }\n",
       "</style>\n",
       "<table border=\"1\" class=\"dataframe\">\n",
       "  <thead>\n",
       "    <tr style=\"text-align: right;\">\n",
       "      <th></th>\n",
       "      <th>isbn</th>\n",
       "      <th>isbn_1</th>\n",
       "      <th>book_title</th>\n",
       "      <th>author</th>\n",
       "      <th>publication_year</th>\n",
       "      <th>publisher</th>\n",
       "      <th>number_of_pages</th>\n",
       "      <th>star_rating</th>\n",
       "      <th>header</th>\n",
       "      <th>header_1</th>\n",
       "      <th>n_a</th>\n",
       "    </tr>\n",
       "  </thead>\n",
       "  <tbody>\n",
       "    <tr>\n",
       "      <th>0</th>\n",
       "      <td>9781455582341</td>\n",
       "      <td>1455582328</td>\n",
       "      <td>How Google Works</td>\n",
       "      <td>Eric Schmidt, Jonathan Rosenberg</td>\n",
       "      <td>2014</td>\n",
       "      <td>Grand Central Publishing</td>\n",
       "      <td>305</td>\n",
       "      <td>4.06</td>\n",
       "      <td>How Google Works</td>\n",
       "      <td>Eric Schmidt, Jonathan Rosenberg</td>\n",
       "      <td>2014</td>\n",
       "    </tr>\n",
       "  </tbody>\n",
       "</table>\n",
       "</div>"
      ],
      "text/plain": [
       "            isbn      isbn_1        book_title  \\\n",
       "0  9781455582341  1455582328  How Google Works   \n",
       "\n",
       "                             author  publication_year  \\\n",
       "0  Eric Schmidt, Jonathan Rosenberg              2014   \n",
       "\n",
       "                  publisher  number_of_pages  star_rating            header  \\\n",
       "0  Grand Central Publishing              305         4.06  How Google Works   \n",
       "\n",
       "                           header_1   n_a  \n",
       "0  Eric Schmidt, Jonathan Rosenberg  2014  "
      ]
     },
     "execution_count": 10,
     "metadata": {},
     "output_type": "execute_result"
    }
   ],
   "source": [
    "# The replace parameter takes in a dictionary of values in the column names to be replaced by new values\n",
    "clean_headers(df_messy, replace={\"éditeur\": \"publisher\", \"★\": \"star\"})"
   ]
  },
  {
   "cell_type": "markdown",
   "id": "3fd247ca-6746-4d1c-bf83-0686aee8d239",
   "metadata": {},
   "source": [
    "## Use `skimpy` (lightweight)"
   ]
  },
  {
   "cell_type": "code",
   "execution_count": 11,
   "id": "eaecc486-78bd-412a-a97b-85f8ec9bfd3a",
   "metadata": {},
   "outputs": [],
   "source": [
    "#!pip install -U skimpy -q"
   ]
  },
  {
   "cell_type": "code",
   "execution_count": 12,
   "id": "0e5ece6b-14cc-4c98-aedd-655f95772bdb",
   "metadata": {},
   "outputs": [],
   "source": [
    "from skimpy import clean_columns"
   ]
  },
  {
   "cell_type": "code",
   "execution_count": 13,
   "id": "decddbdf-431f-4481-807b-56f86b3cd8f6",
   "metadata": {},
   "outputs": [
    {
     "data": {
      "text/html": [
       "<pre style=\"white-space:pre;overflow-x:auto;line-height:normal;font-family:Menlo,'DejaVu Sans Mono',consolas,'Courier New',monospace\"><span style=\"color: #008080; text-decoration-color: #008080; font-weight: bold\">11</span> column names have been cleaned\n",
       "</pre>\n"
      ],
      "text/plain": [
       "\u001b[1;36m11\u001b[0m column names have been cleaned\n"
      ]
     },
     "metadata": {},
     "output_type": "display_data"
    },
    {
     "data": {
      "text/html": [
       "<div>\n",
       "<style scoped>\n",
       "    .dataframe tbody tr th:only-of-type {\n",
       "        vertical-align: middle;\n",
       "    }\n",
       "\n",
       "    .dataframe tbody tr th {\n",
       "        vertical-align: top;\n",
       "    }\n",
       "\n",
       "    .dataframe thead th {\n",
       "        text-align: right;\n",
       "    }\n",
       "</style>\n",
       "<table border=\"1\" class=\"dataframe\">\n",
       "  <thead>\n",
       "    <tr style=\"text-align: right;\">\n",
       "      <th></th>\n",
       "      <th>isbn</th>\n",
       "      <th>isbn_1</th>\n",
       "      <th>book_title</th>\n",
       "      <th>author</th>\n",
       "      <th>publication_year</th>\n",
       "      <th>editeur</th>\n",
       "      <th>number_of_pages</th>\n",
       "      <th>rating</th>\n",
       "      <th>header</th>\n",
       "      <th>header_1</th>\n",
       "      <th>n_a</th>\n",
       "    </tr>\n",
       "  </thead>\n",
       "  <tbody>\n",
       "    <tr>\n",
       "      <th>0</th>\n",
       "      <td>9781455582341</td>\n",
       "      <td>1455582328</td>\n",
       "      <td>How Google Works</td>\n",
       "      <td>Eric Schmidt, Jonathan Rosenberg</td>\n",
       "      <td>2014</td>\n",
       "      <td>Grand Central Publishing</td>\n",
       "      <td>305</td>\n",
       "      <td>4.06</td>\n",
       "      <td>How Google Works</td>\n",
       "      <td>Eric Schmidt, Jonathan Rosenberg</td>\n",
       "      <td>2014</td>\n",
       "    </tr>\n",
       "  </tbody>\n",
       "</table>\n",
       "</div>"
      ],
      "text/plain": [
       "            isbn      isbn_1        book_title  \\\n",
       "0  9781455582341  1455582328  How Google Works   \n",
       "\n",
       "                             author  publication_year  \\\n",
       "0  Eric Schmidt, Jonathan Rosenberg              2014   \n",
       "\n",
       "                    editeur  number_of_pages  rating            header  \\\n",
       "0  Grand Central Publishing              305    4.06  How Google Works   \n",
       "\n",
       "                           header_1   n_a  \n",
       "0  Eric Schmidt, Jonathan Rosenberg  2014  "
      ]
     },
     "execution_count": 13,
     "metadata": {},
     "output_type": "execute_result"
    }
   ],
   "source": [
    "clean_columns(df_messy).head()"
   ]
  },
  {
   "cell_type": "code",
   "execution_count": 14,
   "id": "fbb5476d-b41b-41b7-bc17-3fe173389507",
   "metadata": {},
   "outputs": [
    {
     "data": {
      "text/html": [
       "<pre style=\"white-space:pre;overflow-x:auto;line-height:normal;font-family:Menlo,'DejaVu Sans Mono',consolas,'Courier New',monospace\"><span style=\"color: #008080; text-decoration-color: #008080; font-weight: bold\">10</span> column names have been cleaned\n",
       "</pre>\n"
      ],
      "text/plain": [
       "\u001b[1;36m10\u001b[0m column names have been cleaned\n"
      ]
     },
     "metadata": {},
     "output_type": "display_data"
    },
    {
     "data": {
      "text/html": [
       "<div>\n",
       "<style scoped>\n",
       "    .dataframe tbody tr th:only-of-type {\n",
       "        vertical-align: middle;\n",
       "    }\n",
       "\n",
       "    .dataframe tbody tr th {\n",
       "        vertical-align: top;\n",
       "    }\n",
       "\n",
       "    .dataframe thead th {\n",
       "        text-align: right;\n",
       "    }\n",
       "</style>\n",
       "<table border=\"1\" class=\"dataframe\">\n",
       "  <thead>\n",
       "    <tr style=\"text-align: right;\">\n",
       "      <th></th>\n",
       "      <th>Isbn</th>\n",
       "      <th>Isbn 1</th>\n",
       "      <th>Book Title</th>\n",
       "      <th>Author</th>\n",
       "      <th>Publication (year)</th>\n",
       "      <th>Editeur</th>\n",
       "      <th>Number Of Pages</th>\n",
       "      <th>Rating</th>\n",
       "      <th>Header</th>\n",
       "      <th>Header 1</th>\n",
       "      <th>N/a</th>\n",
       "    </tr>\n",
       "  </thead>\n",
       "  <tbody>\n",
       "    <tr>\n",
       "      <th>0</th>\n",
       "      <td>9781455582341</td>\n",
       "      <td>1455582328</td>\n",
       "      <td>How Google Works</td>\n",
       "      <td>Eric Schmidt, Jonathan Rosenberg</td>\n",
       "      <td>2014</td>\n",
       "      <td>Grand Central Publishing</td>\n",
       "      <td>305</td>\n",
       "      <td>4.06</td>\n",
       "      <td>How Google Works</td>\n",
       "      <td>Eric Schmidt, Jonathan Rosenberg</td>\n",
       "      <td>2014</td>\n",
       "    </tr>\n",
       "  </tbody>\n",
       "</table>\n",
       "</div>"
      ],
      "text/plain": [
       "            Isbn      Isbn 1        Book Title  \\\n",
       "0  9781455582341  1455582328  How Google Works   \n",
       "\n",
       "                             Author  Publication (year)  \\\n",
       "0  Eric Schmidt, Jonathan Rosenberg                2014   \n",
       "\n",
       "                    Editeur  Number Of Pages  Rating            Header  \\\n",
       "0  Grand Central Publishing              305    4.06  How Google Works   \n",
       "\n",
       "                           Header 1   N/a  \n",
       "0  Eric Schmidt, Jonathan Rosenberg  2014  "
      ]
     },
     "execution_count": 14,
     "metadata": {},
     "output_type": "execute_result"
    }
   ],
   "source": [
    "clean_columns(df_messy, case=\"title\").head()"
   ]
  },
  {
   "cell_type": "code",
   "execution_count": 15,
   "id": "bb7844ad-3c57-46db-be17-62425ccb9492",
   "metadata": {},
   "outputs": [
    {
     "data": {
      "text/html": [
       "<pre style=\"white-space:pre;overflow-x:auto;line-height:normal;font-family:Menlo,'DejaVu Sans Mono',consolas,'Courier New',monospace\"><span style=\"color: #008080; text-decoration-color: #008080; font-weight: bold\">10</span> column names have been cleaned\n",
       "</pre>\n"
      ],
      "text/plain": [
       "\u001b[1;36m10\u001b[0m column names have been cleaned\n"
      ]
     },
     "metadata": {},
     "output_type": "display_data"
    },
    {
     "data": {
      "text/html": [
       "<div>\n",
       "<style scoped>\n",
       "    .dataframe tbody tr th:only-of-type {\n",
       "        vertical-align: middle;\n",
       "    }\n",
       "\n",
       "    .dataframe tbody tr th {\n",
       "        vertical-align: top;\n",
       "    }\n",
       "\n",
       "    .dataframe thead th {\n",
       "        text-align: right;\n",
       "    }\n",
       "</style>\n",
       "<table border=\"1\" class=\"dataframe\">\n",
       "  <thead>\n",
       "    <tr style=\"text-align: right;\">\n",
       "      <th></th>\n",
       "      <th>ISBN</th>\n",
       "      <th>ISBN_1</th>\n",
       "      <th>BOOK_TITLE</th>\n",
       "      <th>AUTHOR</th>\n",
       "      <th>PUBLICATION_YEAR</th>\n",
       "      <th>PUBLISHER</th>\n",
       "      <th>NUMBER_OF_PAGES</th>\n",
       "      <th>STAR_RATING</th>\n",
       "      <th>HEADER</th>\n",
       "      <th>HEADER_1</th>\n",
       "      <th>N_A</th>\n",
       "    </tr>\n",
       "  </thead>\n",
       "  <tbody>\n",
       "    <tr>\n",
       "      <th>0</th>\n",
       "      <td>9781455582341</td>\n",
       "      <td>1455582328</td>\n",
       "      <td>How Google Works</td>\n",
       "      <td>Eric Schmidt, Jonathan Rosenberg</td>\n",
       "      <td>2014</td>\n",
       "      <td>Grand Central Publishing</td>\n",
       "      <td>305</td>\n",
       "      <td>4.06</td>\n",
       "      <td>How Google Works</td>\n",
       "      <td>Eric Schmidt, Jonathan Rosenberg</td>\n",
       "      <td>2014</td>\n",
       "    </tr>\n",
       "  </tbody>\n",
       "</table>\n",
       "</div>"
      ],
      "text/plain": [
       "            ISBN      ISBN_1        BOOK_TITLE  \\\n",
       "0  9781455582341  1455582328  How Google Works   \n",
       "\n",
       "                             AUTHOR  PUBLICATION_YEAR  \\\n",
       "0  Eric Schmidt, Jonathan Rosenberg              2014   \n",
       "\n",
       "                  PUBLISHER  NUMBER_OF_PAGES  STAR_RATING            HEADER  \\\n",
       "0  Grand Central Publishing              305         4.06  How Google Works   \n",
       "\n",
       "                           HEADER_1   N_A  \n",
       "0  Eric Schmidt, Jonathan Rosenberg  2014  "
      ]
     },
     "execution_count": 15,
     "metadata": {},
     "output_type": "execute_result"
    }
   ],
   "source": [
    "clean_columns(\n",
    "    df_messy, case=\"const\", replace={\"éditeur\": \"publisher\", \"★\": \"star\"}\n",
    ").head()"
   ]
  }
 ],
 "metadata": {
  "kernelspec": {
   "display_name": "Python 3 (ipykernel)",
   "language": "python",
   "name": "python3"
  },
  "language_info": {
   "codemirror_mode": {
    "name": "ipython",
    "version": 3
   },
   "file_extension": ".py",
   "mimetype": "text/x-python",
   "name": "python",
   "nbconvert_exporter": "python",
   "pygments_lexer": "ipython3",
   "version": "3.8.5"
  }
 },
 "nbformat": 4,
 "nbformat_minor": 5
}
